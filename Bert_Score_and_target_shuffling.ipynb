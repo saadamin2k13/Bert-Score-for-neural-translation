{
  "nbformat": 4,
  "nbformat_minor": 0,
  "metadata": {
    "colab": {
      "provenance": []
    },
    "kernelspec": {
      "name": "python3",
      "display_name": "Python 3"
    },
    "language_info": {
      "name": "python"
    },
    "gpuClass": "standard"
  },
  "cells": [
    {
      "cell_type": "code",
      "source": [
        "!git clone https://github.com/Tiiiger/bert_score\n"
      ],
      "metadata": {
        "colab": {
          "base_uri": "https://localhost:8080/"
        },
        "id": "g4NGGSyPzQ5s",
        "outputId": "f497d9ee-b075-4d3b-e8d0-3b032636745c"
      },
      "execution_count": null,
      "outputs": [
        {
          "output_type": "stream",
          "name": "stdout",
          "text": [
            "Cloning into 'bert_score'...\n",
            "remote: Enumerating objects: 881, done.\u001b[K\n",
            "remote: Counting objects: 100% (243/243), done.\u001b[K\n",
            "remote: Compressing objects: 100% (112/112), done.\u001b[K\n",
            "remote: Total 881 (delta 139), reused 229 (delta 130), pack-reused 638\u001b[K\n",
            "Receiving objects: 100% (881/881), 1.32 MiB | 2.04 MiB/s, done.\n",
            "Resolving deltas: 100% (454/454), done.\n"
          ]
        }
      ]
    },
    {
      "cell_type": "code",
      "source": [
        "cd bert_score\n"
      ],
      "metadata": {
        "colab": {
          "base_uri": "https://localhost:8080/"
        },
        "id": "Ko4_uO-63pf-",
        "outputId": "9e2e70a7-c889-4436-f41a-741266fc9a67"
      },
      "execution_count": null,
      "outputs": [
        {
          "output_type": "stream",
          "name": "stdout",
          "text": [
            "/content/bert_score\n"
          ]
        }
      ]
    },
    {
      "cell_type": "code",
      "source": [
        "!pip install .\n"
      ],
      "metadata": {
        "colab": {
          "base_uri": "https://localhost:8080/"
        },
        "id": "IW9rtIvM3sC4",
        "outputId": "1f184fb9-f92e-443e-a6e4-54644286c8ab"
      },
      "execution_count": null,
      "outputs": [
        {
          "output_type": "stream",
          "name": "stdout",
          "text": [
            "Looking in indexes: https://pypi.org/simple, https://us-python.pkg.dev/colab-wheels/public/simple/\n",
            "Processing /content/bert_score\n",
            "\u001b[33m  DEPRECATION: A future pip version will change local packages to be built in-place without first copying to a temporary directory. We recommend you use --use-feature=in-tree-build to test your packages with this new behavior before it becomes the default.\n",
            "   pip 21.3 will remove support for this functionality. You can find discussion regarding this at https://github.com/pypa/pip/issues/7555.\u001b[0m\n",
            "Requirement already satisfied: torch>=1.0.0 in /usr/local/lib/python3.7/dist-packages (from bert-score==0.3.11) (1.12.1+cu113)\n",
            "Requirement already satisfied: pandas>=1.0.1 in /usr/local/lib/python3.7/dist-packages (from bert-score==0.3.11) (1.3.5)\n",
            "Collecting transformers>=3.0.0numpy\n",
            "  Downloading transformers-4.22.2-py3-none-any.whl (4.9 MB)\n",
            "\u001b[K     |████████████████████████████████| 4.9 MB 2.2 MB/s \n",
            "\u001b[?25hRequirement already satisfied: requests in /usr/local/lib/python3.7/dist-packages (from bert-score==0.3.11) (2.23.0)\n",
            "Requirement already satisfied: tqdm>=4.31.1 in /usr/local/lib/python3.7/dist-packages (from bert-score==0.3.11) (4.64.1)\n",
            "Requirement already satisfied: matplotlib in /usr/local/lib/python3.7/dist-packages (from bert-score==0.3.11) (3.2.2)\n",
            "Requirement already satisfied: packaging>=20.9 in /usr/local/lib/python3.7/dist-packages (from bert-score==0.3.11) (21.3)\n",
            "Requirement already satisfied: pyparsing!=3.0.5,>=2.0.2 in /usr/local/lib/python3.7/dist-packages (from packaging>=20.9->bert-score==0.3.11) (3.0.9)\n",
            "Requirement already satisfied: pytz>=2017.3 in /usr/local/lib/python3.7/dist-packages (from pandas>=1.0.1->bert-score==0.3.11) (2022.2.1)\n",
            "Requirement already satisfied: python-dateutil>=2.7.3 in /usr/local/lib/python3.7/dist-packages (from pandas>=1.0.1->bert-score==0.3.11) (2.8.2)\n",
            "Requirement already satisfied: numpy>=1.17.3 in /usr/local/lib/python3.7/dist-packages (from pandas>=1.0.1->bert-score==0.3.11) (1.21.6)\n",
            "Requirement already satisfied: six>=1.5 in /usr/local/lib/python3.7/dist-packages (from python-dateutil>=2.7.3->pandas>=1.0.1->bert-score==0.3.11) (1.15.0)\n",
            "Requirement already satisfied: typing-extensions in /usr/local/lib/python3.7/dist-packages (from torch>=1.0.0->bert-score==0.3.11) (4.1.1)\n",
            "Requirement already satisfied: importlib-metadata in /usr/local/lib/python3.7/dist-packages (from transformers>=3.0.0numpy->bert-score==0.3.11) (4.12.0)\n",
            "Requirement already satisfied: regex!=2019.12.17 in /usr/local/lib/python3.7/dist-packages (from transformers>=3.0.0numpy->bert-score==0.3.11) (2022.6.2)\n",
            "Requirement already satisfied: pyyaml>=5.1 in /usr/local/lib/python3.7/dist-packages (from transformers>=3.0.0numpy->bert-score==0.3.11) (6.0)\n",
            "Requirement already satisfied: filelock in /usr/local/lib/python3.7/dist-packages (from transformers>=3.0.0numpy->bert-score==0.3.11) (3.8.0)\n",
            "Collecting huggingface-hub<1.0,>=0.9.0\n",
            "  Downloading huggingface_hub-0.9.1-py3-none-any.whl (120 kB)\n",
            "\u001b[K     |████████████████████████████████| 120 kB 42.4 MB/s \n",
            "\u001b[?25hCollecting tokenizers!=0.11.3,<0.13,>=0.11.1\n",
            "  Downloading tokenizers-0.12.1-cp37-cp37m-manylinux_2_12_x86_64.manylinux2010_x86_64.whl (6.6 MB)\n",
            "\u001b[K     |████████████████████████████████| 6.6 MB 33.0 MB/s \n",
            "\u001b[?25hRequirement already satisfied: zipp>=0.5 in /usr/local/lib/python3.7/dist-packages (from importlib-metadata->transformers>=3.0.0numpy->bert-score==0.3.11) (3.8.1)\n",
            "Requirement already satisfied: cycler>=0.10 in /usr/local/lib/python3.7/dist-packages (from matplotlib->bert-score==0.3.11) (0.11.0)\n",
            "Requirement already satisfied: kiwisolver>=1.0.1 in /usr/local/lib/python3.7/dist-packages (from matplotlib->bert-score==0.3.11) (1.4.4)\n",
            "Requirement already satisfied: chardet<4,>=3.0.2 in /usr/local/lib/python3.7/dist-packages (from requests->bert-score==0.3.11) (3.0.4)\n",
            "Requirement already satisfied: certifi>=2017.4.17 in /usr/local/lib/python3.7/dist-packages (from requests->bert-score==0.3.11) (2022.6.15)\n",
            "Requirement already satisfied: idna<3,>=2.5 in /usr/local/lib/python3.7/dist-packages (from requests->bert-score==0.3.11) (2.10)\n",
            "Requirement already satisfied: urllib3!=1.25.0,!=1.25.1,<1.26,>=1.21.1 in /usr/local/lib/python3.7/dist-packages (from requests->bert-score==0.3.11) (1.24.3)\n",
            "Building wheels for collected packages: bert-score\n",
            "  Building wheel for bert-score (setup.py) ... \u001b[?25l\u001b[?25hdone\n",
            "  Created wheel for bert-score: filename=bert_score-0.3.11-py3-none-any.whl size=60607 sha256=b748c4c4f7391912d96c5121bc8dffc4dc36129cd87eb3caa4939bbd9ecc9e2d\n",
            "  Stored in directory: /tmp/pip-ephem-wheel-cache-8qbpwxhj/wheels/a7/12/f8/8da4f6ac6ff005e9a0202402458a4b37dc94d267cd0624459d\n",
            "Successfully built bert-score\n",
            "Installing collected packages: tokenizers, huggingface-hub, transformers, bert-score\n",
            "Successfully installed bert-score-0.3.11 huggingface-hub-0.9.1 tokenizers-0.12.1 transformers-4.22.2\n"
          ]
        }
      ]
    },
    {
      "cell_type": "code",
      "source": [
        "!python -m unittest discover\n"
      ],
      "metadata": {
        "colab": {
          "base_uri": "https://localhost:8080/"
        },
        "id": "m5Z3uoHV3vRw",
        "outputId": "a61acd42-31bf-405a-f4a2-344e59f5f7d0"
      },
      "execution_count": null,
      "outputs": [
        {
          "output_type": "stream",
          "name": "stdout",
          "text": [
            "Downloading: 100% 482/482 [00:00<00:00, 403kB/s]\n",
            "Downloading: 100% 899k/899k [00:01<00:00, 779kB/s] \n",
            "Downloading: 100% 456k/456k [00:01<00:00, 396kB/s]\n",
            "Downloading: 100% 1.43G/1.43G [00:45<00:00, 31.0MB/s]\n",
            "Some weights of the model checkpoint at roberta-large were not used when initializing RobertaModel: ['lm_head.layer_norm.weight', 'lm_head.decoder.weight', 'lm_head.dense.weight', 'lm_head.bias', 'lm_head.layer_norm.bias', 'lm_head.dense.bias']\n",
            "- This IS expected if you are initializing RobertaModel from the checkpoint of a model trained on another task or with another architecture (e.g. initializing a BertForSequenceClassification model from a BertForPreTraining model).\n",
            "- This IS NOT expected if you are initializing RobertaModel from the checkpoint of a model that you expect to be exactly identical (initializing a BertForSequenceClassification model from a BertForSequenceClassification model).\n",
            "FSome weights of the model checkpoint at roberta-large were not used when initializing RobertaModel: ['lm_head.layer_norm.weight', 'lm_head.decoder.weight', 'lm_head.dense.weight', 'lm_head.bias', 'lm_head.layer_norm.bias', 'lm_head.dense.bias']\n",
            "- This IS expected if you are initializing RobertaModel from the checkpoint of a model trained on another task or with another architecture (e.g. initializing a BertForSequenceClassification model from a BertForPreTraining model).\n",
            "- This IS NOT expected if you are initializing RobertaModel from the checkpoint of a model that you expect to be exactly identical (initializing a BertForSequenceClassification model from a BertForSequenceClassification model).\n",
            "Downloading: 100% 1.36M/1.36M [00:01<00:00, 1.17MB/s]\n",
            "Some weights of the model checkpoint at roberta-large were not used when initializing RobertaModel: ['lm_head.layer_norm.weight', 'lm_head.decoder.weight', 'lm_head.dense.weight', 'lm_head.bias', 'lm_head.layer_norm.bias', 'lm_head.dense.bias']\n",
            "- This IS expected if you are initializing RobertaModel from the checkpoint of a model trained on another task or with another architecture (e.g. initializing a BertForSequenceClassification model from a BertForPreTraining model).\n",
            "- This IS NOT expected if you are initializing RobertaModel from the checkpoint of a model that you expect to be exactly identical (initializing a BertForSequenceClassification model from a BertForSequenceClassification model).\n",
            ".Some weights of the model checkpoint at roberta-large were not used when initializing RobertaModel: ['lm_head.layer_norm.weight', 'lm_head.decoder.weight', 'lm_head.dense.weight', 'lm_head.bias', 'lm_head.layer_norm.bias', 'lm_head.dense.bias']\n",
            "- This IS expected if you are initializing RobertaModel from the checkpoint of a model trained on another task or with another architecture (e.g. initializing a BertForSequenceClassification model from a BertForPreTraining model).\n",
            "- This IS NOT expected if you are initializing RobertaModel from the checkpoint of a model that you expect to be exactly identical (initializing a BertForSequenceClassification model from a BertForSequenceClassification model).\n",
            "Some weights of the model checkpoint at roberta-large were not used when initializing RobertaModel: ['lm_head.layer_norm.weight', 'lm_head.decoder.weight', 'lm_head.dense.weight', 'lm_head.bias', 'lm_head.layer_norm.bias', 'lm_head.dense.bias']\n",
            "- This IS expected if you are initializing RobertaModel from the checkpoint of a model trained on another task or with another architecture (e.g. initializing a BertForSequenceClassification model from a BertForPreTraining model).\n",
            "- This IS NOT expected if you are initializing RobertaModel from the checkpoint of a model that you expect to be exactly identical (initializing a BertForSequenceClassification model from a BertForSequenceClassification model).\n",
            ".Some weights of the model checkpoint at roberta-large were not used when initializing RobertaModel: ['lm_head.layer_norm.weight', 'lm_head.decoder.weight', 'lm_head.dense.weight', 'lm_head.bias', 'lm_head.layer_norm.bias', 'lm_head.dense.bias']\n",
            "- This IS expected if you are initializing RobertaModel from the checkpoint of a model trained on another task or with another architecture (e.g. initializing a BertForSequenceClassification model from a BertForPreTraining model).\n",
            "- This IS NOT expected if you are initializing RobertaModel from the checkpoint of a model that you expect to be exactly identical (initializing a BertForSequenceClassification model from a BertForSequenceClassification model).\n",
            "Warning: Empty reference sentence detected; setting raw BERTScores to 0.\n",
            "Warning: Empty candidate sentence detected; setting raw BERTscores to 0.\n",
            ".Some weights of the model checkpoint at roberta-large were not used when initializing RobertaModel: ['lm_head.layer_norm.weight', 'lm_head.decoder.weight', 'lm_head.dense.weight', 'lm_head.bias', 'lm_head.layer_norm.bias', 'lm_head.dense.bias']\n",
            "- This IS expected if you are initializing RobertaModel from the checkpoint of a model trained on another task or with another architecture (e.g. initializing a BertForSequenceClassification model from a BertForPreTraining model).\n",
            "- This IS NOT expected if you are initializing RobertaModel from the checkpoint of a model that you expect to be exactly identical (initializing a BertForSequenceClassification model from a BertForSequenceClassification model).\n",
            "FsSome weights of the model checkpoint at roberta-large were not used when initializing RobertaModel: ['lm_head.layer_norm.weight', 'lm_head.decoder.weight', 'lm_head.dense.weight', 'lm_head.bias', 'lm_head.layer_norm.bias', 'lm_head.dense.bias']\n",
            "- This IS expected if you are initializing RobertaModel from the checkpoint of a model trained on another task or with another architecture (e.g. initializing a BertForSequenceClassification model from a BertForPreTraining model).\n",
            "- This IS NOT expected if you are initializing RobertaModel from the checkpoint of a model that you expect to be exactly identical (initializing a BertForSequenceClassification model from a BertForSequenceClassification model).\n",
            "FSome weights of the model checkpoint at roberta-large were not used when initializing RobertaModel: ['lm_head.layer_norm.weight', 'lm_head.decoder.weight', 'lm_head.dense.weight', 'lm_head.bias', 'lm_head.layer_norm.bias', 'lm_head.dense.bias']\n",
            "- This IS expected if you are initializing RobertaModel from the checkpoint of a model trained on another task or with another architecture (e.g. initializing a BertForSequenceClassification model from a BertForPreTraining model).\n",
            "- This IS NOT expected if you are initializing RobertaModel from the checkpoint of a model that you expect to be exactly identical (initializing a BertForSequenceClassification model from a BertForSequenceClassification model).\n",
            "huggingface/tokenizers: The current process just got forked, after parallelism has already been used. Disabling parallelism to avoid deadlocks...\n",
            "To disable this warning, you can either:\n",
            "\t- Avoid using `tokenizers` before the fork if possible\n",
            "\t- Explicitly set the environment variable TOKENIZERS_PARALLELISM=(true | false)\n",
            "huggingface/tokenizers: The current process just got forked, after parallelism has already been used. Disabling parallelism to avoid deadlocks...\n",
            "To disable this warning, you can either:\n",
            "\t- Avoid using `tokenizers` before the fork if possible\n",
            "\t- Explicitly set the environment variable TOKENIZERS_PARALLELISM=(true | false)\n",
            "huggingface/tokenizers: The current process just got forked, after parallelism has already been used. Disabling parallelism to avoid deadlocks...\n",
            "To disable this warning, you can either:\n",
            "\t- Avoid using `tokenizers` before the fork if possible\n",
            "\t- Explicitly set the environment variable TOKENIZERS_PARALLELISM=(true | false)\n",
            "huggingface/tokenizers: The current process just got forked, after parallelism has already been used. Disabling parallelism to avoid deadlocks...\n",
            "To disable this warning, you can either:\n",
            "\t- Avoid using `tokenizers` before the fork if possible\n",
            "\t- Explicitly set the environment variable TOKENIZERS_PARALLELISM=(true | false)\n",
            "FSome weights of the model checkpoint at roberta-large were not used when initializing RobertaModel: ['lm_head.layer_norm.weight', 'lm_head.decoder.weight', 'lm_head.dense.weight', 'lm_head.bias', 'lm_head.layer_norm.bias', 'lm_head.dense.bias']\n",
            "- This IS expected if you are initializing RobertaModel from the checkpoint of a model trained on another task or with another architecture (e.g. initializing a BertForSequenceClassification model from a BertForPreTraining model).\n",
            "- This IS NOT expected if you are initializing RobertaModel from the checkpoint of a model that you expect to be exactly identical (initializing a BertForSequenceClassification model from a BertForSequenceClassification model).\n",
            "huggingface/tokenizers: The current process just got forked, after parallelism has already been used. Disabling parallelism to avoid deadlocks...\n",
            "To disable this warning, you can either:\n",
            "\t- Avoid using `tokenizers` before the fork if possible\n",
            "\t- Explicitly set the environment variable TOKENIZERS_PARALLELISM=(true | false)\n",
            "huggingface/tokenizers: The current process just got forked, after parallelism has already been used. Disabling parallelism to avoid deadlocks...\n",
            "To disable this warning, you can either:\n",
            "\t- Avoid using `tokenizers` before the fork if possible\n",
            "\t- Explicitly set the environment variable TOKENIZERS_PARALLELISM=(true | false)\n",
            "huggingface/tokenizers: The current process just got forked, after parallelism has already been used. Disabling parallelism to avoid deadlocks...\n",
            "To disable this warning, you can either:\n",
            "\t- Avoid using `tokenizers` before the fork if possible\n",
            "\t- Explicitly set the environment variable TOKENIZERS_PARALLELISM=(true | false)\n",
            "huggingface/tokenizers: The current process just got forked, after parallelism has already been used. Disabling parallelism to avoid deadlocks...\n",
            "To disable this warning, you can either:\n",
            "\t- Avoid using `tokenizers` before the fork if possible\n",
            "\t- Explicitly set the environment variable TOKENIZERS_PARALLELISM=(true | false)\n",
            "FSome weights of the model checkpoint at roberta-large were not used when initializing RobertaModel: ['lm_head.layer_norm.weight', 'lm_head.decoder.weight', 'lm_head.dense.weight', 'lm_head.bias', 'lm_head.layer_norm.bias', 'lm_head.dense.bias']\n",
            "- This IS expected if you are initializing RobertaModel from the checkpoint of a model trained on another task or with another architecture (e.g. initializing a BertForSequenceClassification model from a BertForPreTraining model).\n",
            "- This IS NOT expected if you are initializing RobertaModel from the checkpoint of a model that you expect to be exactly identical (initializing a BertForSequenceClassification model from a BertForSequenceClassification model).\n",
            ".Some weights of the model checkpoint at roberta-large were not used when initializing RobertaModel: ['lm_head.layer_norm.weight', 'lm_head.decoder.weight', 'lm_head.dense.weight', 'lm_head.bias', 'lm_head.layer_norm.bias', 'lm_head.dense.bias']\n",
            "- This IS expected if you are initializing RobertaModel from the checkpoint of a model trained on another task or with another architecture (e.g. initializing a BertForSequenceClassification model from a BertForPreTraining model).\n",
            "- This IS NOT expected if you are initializing RobertaModel from the checkpoint of a model that you expect to be exactly identical (initializing a BertForSequenceClassification model from a BertForSequenceClassification model).\n",
            "Warning: Empty candidate sentence detected; setting raw BERTscores to 0.\n",
            "Warning: Empty reference sentence detected; setting raw BERTScores to 0.\n",
            ".Some weights of the model checkpoint at roberta-large were not used when initializing RobertaModel: ['lm_head.layer_norm.weight', 'lm_head.decoder.weight', 'lm_head.dense.weight', 'lm_head.bias', 'lm_head.layer_norm.bias', 'lm_head.dense.bias']\n",
            "- This IS expected if you are initializing RobertaModel from the checkpoint of a model trained on another task or with another architecture (e.g. initializing a BertForSequenceClassification model from a BertForPreTraining model).\n",
            "- This IS NOT expected if you are initializing RobertaModel from the checkpoint of a model that you expect to be exactly identical (initializing a BertForSequenceClassification model from a BertForSequenceClassification model).\n",
            "FSome weights of the model checkpoint at roberta-large were not used when initializing RobertaModel: ['lm_head.layer_norm.weight', 'lm_head.decoder.weight', 'lm_head.dense.weight', 'lm_head.bias', 'lm_head.layer_norm.bias', 'lm_head.dense.bias']\n",
            "- This IS expected if you are initializing RobertaModel from the checkpoint of a model trained on another task or with another architecture (e.g. initializing a BertForSequenceClassification model from a BertForPreTraining model).\n",
            "- This IS NOT expected if you are initializing RobertaModel from the checkpoint of a model that you expect to be exactly identical (initializing a BertForSequenceClassification model from a BertForSequenceClassification model).\n",
            "F\n",
            "======================================================================\n",
            "FAIL: test_idf_score (tests.test_score_function.TestScore)\n",
            "----------------------------------------------------------------------\n",
            "Traceback (most recent call last):\n",
            "  File \"/content/bert_score/tests/test_score_function.py\", line 39, in test_idf_score\n",
            "    self.assertTensorsAlmostEqual(P, [0.9837872385978699, 0.9754738807678223, 0.8947395086288452])\n",
            "  File \"/content/bert_score/tests/custom_assertions.py\", line 14, in assertTensorsAlmostEqual\n",
            "    np.testing.assert_almost_equal(expected, actual, decimal=decimal)\n",
            "  File \"/usr/local/lib/python3.7/dist-packages/numpy/testing/_private/utils.py\", line 583, in assert_almost_equal\n",
            "    return assert_array_almost_equal(actual, desired, decimal, err_msg)\n",
            "  File \"/usr/local/lib/python3.7/dist-packages/numpy/testing/_private/utils.py\", line 1048, in assert_array_almost_equal\n",
            "    precision=decimal)\n",
            "  File \"/usr/local/lib/python3.7/dist-packages/numpy/testing/_private/utils.py\", line 844, in assert_array_compare\n",
            "    raise AssertionError(msg)\n",
            "AssertionError: \n",
            "Arrays are not almost equal to 5 decimals\n",
            "\n",
            "Mismatched elements: 3 / 3 (100%)\n",
            "Max absolute difference: 0.00421065\n",
            "Max relative difference: 0.00470601\n",
            " x: array([0.98417, 0.97522, 0.89895], dtype=float32)\n",
            " y: array([0.98379, 0.97547, 0.89474])\n",
            "\n",
            "======================================================================\n",
            "FAIL: test_idf_score_rescale (tests.test_score_function.TestScore)\n",
            "----------------------------------------------------------------------\n",
            "Traceback (most recent call last):\n",
            "  File \"/content/bert_score/tests/test_score_function.py\", line 83, in test_idf_score_rescale\n",
            "    self.assertTensorsAlmostEqual(P, [0.903778135776520, 0.854439020156860, 0.375287383794785])\n",
            "  File \"/content/bert_score/tests/custom_assertions.py\", line 14, in assertTensorsAlmostEqual\n",
            "    np.testing.assert_almost_equal(expected, actual, decimal=decimal)\n",
            "  File \"/usr/local/lib/python3.7/dist-packages/numpy/testing/_private/utils.py\", line 583, in assert_almost_equal\n",
            "    return assert_array_almost_equal(actual, desired, decimal, err_msg)\n",
            "  File \"/usr/local/lib/python3.7/dist-packages/numpy/testing/_private/utils.py\", line 1048, in assert_array_almost_equal\n",
            "    precision=decimal)\n",
            "  File \"/usr/local/lib/python3.7/dist-packages/numpy/testing/_private/utils.py\", line 844, in assert_array_compare\n",
            "    raise AssertionError(msg)\n",
            "AssertionError: \n",
            "Arrays are not almost equal to 5 decimals\n",
            "\n",
            "Mismatched elements: 3 / 3 (100%)\n",
            "Max absolute difference: 0.02498955\n",
            "Max relative difference: 0.06658776\n",
            " x: array([0.90603, 0.85295, 0.40028], dtype=float32)\n",
            " y: array([0.90378, 0.85444, 0.37529])\n",
            "\n",
            "======================================================================\n",
            "FAIL: test_score (tests.test_score_function.TestScore)\n",
            "----------------------------------------------------------------------\n",
            "Traceback (most recent call last):\n",
            "  File \"/content/bert_score/tests/test_score_function.py\", line 26, in test_score\n",
            "    self.assertTensorsAlmostEqual(P, [0.9843302369117737, 0.9832239747047424, 0.9120386242866516])\n",
            "  File \"/content/bert_score/tests/custom_assertions.py\", line 14, in assertTensorsAlmostEqual\n",
            "    np.testing.assert_almost_equal(expected, actual, decimal=decimal)\n",
            "  File \"/usr/local/lib/python3.7/dist-packages/numpy/testing/_private/utils.py\", line 583, in assert_almost_equal\n",
            "    return assert_array_almost_equal(actual, desired, decimal, err_msg)\n",
            "  File \"/usr/local/lib/python3.7/dist-packages/numpy/testing/_private/utils.py\", line 1048, in assert_array_almost_equal\n",
            "    precision=decimal)\n",
            "  File \"/usr/local/lib/python3.7/dist-packages/numpy/testing/_private/utils.py\", line 844, in assert_array_compare\n",
            "    raise AssertionError(msg)\n",
            "AssertionError: \n",
            "Arrays are not almost equal to 5 decimals\n",
            "\n",
            "Mismatched elements: 3 / 3 (100%)\n",
            "Max absolute difference: 0.00253558\n",
            "Max relative difference: 0.00278013\n",
            " x: array([0.98629, 0.98176, 0.91457], dtype=float32)\n",
            " y: array([0.98433, 0.98322, 0.91204])\n",
            "\n",
            "======================================================================\n",
            "FAIL: test_score_rescale (tests.test_score_function.TestScore)\n",
            "----------------------------------------------------------------------\n",
            "Traceback (most recent call last):\n",
            "  File \"/content/bert_score/tests/test_score_function.py\", line 61, in test_score_rescale\n",
            "    self.assertTensorsAlmostEqual(P, [0.907000780105591, 0.900435566902161, 0.477955609560013])\n",
            "  File \"/content/bert_score/tests/custom_assertions.py\", line 14, in assertTensorsAlmostEqual\n",
            "    np.testing.assert_almost_equal(expected, actual, decimal=decimal)\n",
            "  File \"/usr/local/lib/python3.7/dist-packages/numpy/testing/_private/utils.py\", line 583, in assert_almost_equal\n",
            "    return assert_array_almost_equal(actual, desired, decimal, err_msg)\n",
            "  File \"/usr/local/lib/python3.7/dist-packages/numpy/testing/_private/utils.py\", line 1048, in assert_array_almost_equal\n",
            "    precision=decimal)\n",
            "  File \"/usr/local/lib/python3.7/dist-packages/numpy/testing/_private/utils.py\", line 844, in assert_array_compare\n",
            "    raise AssertionError(msg)\n",
            "AssertionError: \n",
            "Arrays are not almost equal to 5 decimals\n",
            "\n",
            "Mismatched elements: 3 / 3 (100%)\n",
            "Max absolute difference: 0.01504883\n",
            "Max relative difference: 0.03148584\n",
            " x: array([0.91863, 0.89176, 0.493  ], dtype=float32)\n",
            " y: array([0.907  , 0.90044, 0.47796])\n",
            "\n",
            "======================================================================\n",
            "FAIL: test_idf_scorer (tests.test_scorer.TestScore)\n",
            "----------------------------------------------------------------------\n",
            "Traceback (most recent call last):\n",
            "  File \"/content/bert_score/tests/test_scorer.py\", line 37, in test_idf_scorer\n",
            "    self.assertTensorsAlmostEqual(P, [0.9837872385978699, 0.9754738807678223, 0.8947395086288452])\n",
            "  File \"/content/bert_score/tests/custom_assertions.py\", line 14, in assertTensorsAlmostEqual\n",
            "    np.testing.assert_almost_equal(expected, actual, decimal=decimal)\n",
            "  File \"/usr/local/lib/python3.7/dist-packages/numpy/testing/_private/utils.py\", line 583, in assert_almost_equal\n",
            "    return assert_array_almost_equal(actual, desired, decimal, err_msg)\n",
            "  File \"/usr/local/lib/python3.7/dist-packages/numpy/testing/_private/utils.py\", line 1048, in assert_array_almost_equal\n",
            "    precision=decimal)\n",
            "  File \"/usr/local/lib/python3.7/dist-packages/numpy/testing/_private/utils.py\", line 844, in assert_array_compare\n",
            "    raise AssertionError(msg)\n",
            "AssertionError: \n",
            "Arrays are not almost equal to 5 decimals\n",
            "\n",
            "Mismatched elements: 3 / 3 (100%)\n",
            "Max absolute difference: 0.00421065\n",
            "Max relative difference: 0.00470601\n",
            " x: array([0.98417, 0.97522, 0.89895], dtype=float32)\n",
            " y: array([0.98379, 0.97547, 0.89474])\n",
            "\n",
            "======================================================================\n",
            "FAIL: test_idf_scorer_rescale (tests.test_scorer.TestScore)\n",
            "----------------------------------------------------------------------\n",
            "Traceback (most recent call last):\n",
            "  File \"/content/bert_score/tests/test_scorer.py\", line 61, in test_idf_scorer_rescale\n",
            "    self.assertTensorsAlmostEqual(P, [0.903778135776520, 0.854439020156860, 0.375287383794785])\n",
            "  File \"/content/bert_score/tests/custom_assertions.py\", line 14, in assertTensorsAlmostEqual\n",
            "    np.testing.assert_almost_equal(expected, actual, decimal=decimal)\n",
            "  File \"/usr/local/lib/python3.7/dist-packages/numpy/testing/_private/utils.py\", line 583, in assert_almost_equal\n",
            "    return assert_array_almost_equal(actual, desired, decimal, err_msg)\n",
            "  File \"/usr/local/lib/python3.7/dist-packages/numpy/testing/_private/utils.py\", line 1048, in assert_array_almost_equal\n",
            "    precision=decimal)\n",
            "  File \"/usr/local/lib/python3.7/dist-packages/numpy/testing/_private/utils.py\", line 844, in assert_array_compare\n",
            "    raise AssertionError(msg)\n",
            "AssertionError: \n",
            "Arrays are not almost equal to 5 decimals\n",
            "\n",
            "Mismatched elements: 3 / 3 (100%)\n",
            "Max absolute difference: 0.02498955\n",
            "Max relative difference: 0.06658776\n",
            " x: array([0.90603, 0.85295, 0.40028], dtype=float32)\n",
            " y: array([0.90378, 0.85444, 0.37529])\n",
            "\n",
            "======================================================================\n",
            "FAIL: test_scorer (tests.test_scorer.TestScore)\n",
            "----------------------------------------------------------------------\n",
            "Traceback (most recent call last):\n",
            "  File \"/content/bert_score/tests/test_scorer.py\", line 25, in test_scorer\n",
            "    self.assertTensorsAlmostEqual(P, [0.9843302369117737, 0.9832239747047424, 0.9120386242866516])\n",
            "  File \"/content/bert_score/tests/custom_assertions.py\", line 14, in assertTensorsAlmostEqual\n",
            "    np.testing.assert_almost_equal(expected, actual, decimal=decimal)\n",
            "  File \"/usr/local/lib/python3.7/dist-packages/numpy/testing/_private/utils.py\", line 583, in assert_almost_equal\n",
            "    return assert_array_almost_equal(actual, desired, decimal, err_msg)\n",
            "  File \"/usr/local/lib/python3.7/dist-packages/numpy/testing/_private/utils.py\", line 1048, in assert_array_almost_equal\n",
            "    precision=decimal)\n",
            "  File \"/usr/local/lib/python3.7/dist-packages/numpy/testing/_private/utils.py\", line 844, in assert_array_compare\n",
            "    raise AssertionError(msg)\n",
            "AssertionError: \n",
            "Arrays are not almost equal to 5 decimals\n",
            "\n",
            "Mismatched elements: 3 / 3 (100%)\n",
            "Max absolute difference: 0.00253558\n",
            "Max relative difference: 0.00278013\n",
            " x: array([0.98629, 0.98176, 0.91457], dtype=float32)\n",
            " y: array([0.98433, 0.98322, 0.91204])\n",
            "\n",
            "======================================================================\n",
            "FAIL: test_scorer_rescale (tests.test_scorer.TestScore)\n",
            "----------------------------------------------------------------------\n",
            "Traceback (most recent call last):\n",
            "  File \"/content/bert_score/tests/test_scorer.py\", line 49, in test_scorer_rescale\n",
            "    self.assertTensorsAlmostEqual(P, [0.907000780105591, 0.900435566902161, 0.477955609560013])\n",
            "  File \"/content/bert_score/tests/custom_assertions.py\", line 14, in assertTensorsAlmostEqual\n",
            "    np.testing.assert_almost_equal(expected, actual, decimal=decimal)\n",
            "  File \"/usr/local/lib/python3.7/dist-packages/numpy/testing/_private/utils.py\", line 583, in assert_almost_equal\n",
            "    return assert_array_almost_equal(actual, desired, decimal, err_msg)\n",
            "  File \"/usr/local/lib/python3.7/dist-packages/numpy/testing/_private/utils.py\", line 1048, in assert_array_almost_equal\n",
            "    precision=decimal)\n",
            "  File \"/usr/local/lib/python3.7/dist-packages/numpy/testing/_private/utils.py\", line 844, in assert_array_compare\n",
            "    raise AssertionError(msg)\n",
            "AssertionError: \n",
            "Arrays are not almost equal to 5 decimals\n",
            "\n",
            "Mismatched elements: 3 / 3 (100%)\n",
            "Max absolute difference: 0.01504883\n",
            "Max relative difference: 0.03148584\n",
            " x: array([0.91863, 0.89176, 0.493  ], dtype=float32)\n",
            " y: array([0.907  , 0.90044, 0.47796])\n",
            "\n",
            "----------------------------------------------------------------------\n",
            "Ran 14 tests in 190.897s\n",
            "\n",
            "FAILED (failures=8, skipped=1)\n"
          ]
        }
      ]
    },
    {
      "cell_type": "code",
      "source": [
        "pwd"
      ],
      "metadata": {
        "colab": {
          "base_uri": "https://localhost:8080/",
          "height": 35
        },
        "id": "57UyOhs031IF",
        "outputId": "5eecb885-8283-40c7-fd46-8eace8a57006"
      },
      "execution_count": null,
      "outputs": [
        {
          "output_type": "execute_result",
          "data": {
            "text/plain": [
              "'/content/bert_score'"
            ],
            "application/vnd.google.colaboratory.intrinsic+json": {
              "type": "string"
            }
          },
          "metadata": {},
          "execution_count": 5
        }
      ]
    },
    {
      "cell_type": "code",
      "source": [
        "ls"
      ],
      "metadata": {
        "colab": {
          "base_uri": "https://localhost:8080/"
        },
        "id": "DUy7Gh4Y5MTC",
        "outputId": "b9e58f28-fa02-4c3b-be08-b68b2e1c452d"
      },
      "execution_count": null,
      "outputs": [
        {
          "output_type": "stream",
          "name": "stdout",
          "text": [
            "\u001b[0m\u001b[01;34mbert_score\u001b[0m/      \u001b[01;34mget_rescale_baseline\u001b[0m/  README.md         \u001b[01;34mtests\u001b[0m/\n",
            "\u001b[01;34mbert_score_cli\u001b[0m/  \u001b[01;34mjournal\u001b[0m/               \u001b[01;34mreproduce\u001b[0m/        \u001b[01;34mtune_layers\u001b[0m/\n",
            "bert_score.png   LICENSE                requirements.txt  upload_pypi.sh\n",
            "\u001b[01;34mexample\u001b[0m/         MANIFEST.in            setup.py\n"
          ]
        }
      ]
    },
    {
      "cell_type": "code",
      "source": [
        "!bert-score -r ../test.txt.raw -c ../DRS-raw.txt --lang en"
      ],
      "metadata": {
        "colab": {
          "base_uri": "https://localhost:8080/"
        },
        "id": "Pz_VoNEj5Nj8",
        "outputId": "778d576d-08ad-4e9f-8c5f-b9f50af83699"
      },
      "execution_count": null,
      "outputs": [
        {
          "output_type": "stream",
          "name": "stdout",
          "text": [
            "Some weights of the model checkpoint at roberta-large were not used when initializing RobertaModel: ['lm_head.layer_norm.bias', 'lm_head.dense.bias', 'lm_head.bias', 'lm_head.decoder.weight', 'lm_head.dense.weight', 'lm_head.layer_norm.weight']\n",
            "- This IS expected if you are initializing RobertaModel from the checkpoint of a model trained on another task or with another architecture (e.g. initializing a BertForSequenceClassification model from a BertForPreTraining model).\n",
            "- This IS NOT expected if you are initializing RobertaModel from the checkpoint of a model that you expect to be exactly identical (initializing a BertForSequenceClassification model from a BertForSequenceClassification model).\n",
            "roberta-large_L17_no-idf_version=0.3.11(hug_trans=4.22.1)_fast-tokenizer P: 0.871176 R: 0.871603 F1: 0.870813\n"
          ]
        }
      ]
    },
    {
      "cell_type": "code",
      "source": [
        "!python ../shuffle.py ../output1.seq.out"
      ],
      "metadata": {
        "id": "jFZc5TiGOVgX"
      },
      "execution_count": null,
      "outputs": []
    },
    {
      "cell_type": "code",
      "source": [
        "!bert-score-show --lang en -r example/DRS-Ref.txt -c example/DRS-Hyps.txt -f out.png\n"
      ],
      "metadata": {
        "colab": {
          "base_uri": "https://localhost:8080/"
        },
        "id": "VQ9gQPxX5xGk",
        "outputId": "e52393c1-c43b-4e8d-9005-73b70be31ab0"
      },
      "execution_count": null,
      "outputs": [
        {
          "output_type": "stream",
          "name": "stdout",
          "text": [
            "Some weights of the model checkpoint at roberta-large were not used when initializing RobertaModel: ['lm_head.dense.weight', 'lm_head.decoder.weight', 'lm_head.bias', 'lm_head.dense.bias', 'lm_head.layer_norm.weight', 'lm_head.layer_norm.bias']\n",
            "- This IS expected if you are initializing RobertaModel from the checkpoint of a model trained on another task or with another architecture (e.g. initializing a BertForSequenceClassification model from a BertForPreTraining model).\n",
            "- This IS NOT expected if you are initializing RobertaModel from the checkpoint of a model that you expect to be exactly identical (initializing a BertForSequenceClassification model from a BertForSequenceClassification model).\n",
            "Saved figure to file:  out.png\n",
            "Figure(800x900)\n"
          ]
        }
      ]
    },
    {
      "cell_type": "markdown",
      "source": [
        " **This code is to shuffle the lines in text file. \n",
        "code below should be saved in shuffle.py file and run the given below command to execute the code.**\n",
        "python shuffle.py demo.txt"
      ],
      "metadata": {
        "id": "FJ08pnIoecVy"
      }
    },
    {
      "cell_type": "code",
      "source": [
        "import random\n",
        "import argparse\n",
        "import sys\n",
        "import os\n",
        "import time\n",
        "\n",
        "parser = argparse.ArgumentParser()\n",
        "parser.add_argument('file_name', help='Provide the file name')\n",
        "args = parser.parse_args()\n",
        "\n",
        "inputFilename = args.file_name\n",
        "\n",
        "if not os.path.exists(inputFilename):\n",
        "    print(f'The file {inputFilename} does not exist. Quitting...')\n",
        "    sys.exit()\n",
        "\n",
        "\n",
        "class ShuffleLine:\n",
        "\n",
        "    def __init__(self, inp_file):\n",
        "        self.file_name = inp_file\n",
        "\n",
        "    # Shuffling with help of list of tuples\n",
        "    def shuffle_read(self):\n",
        "        file_name = self.file_name\n",
        "        with open(file_name, 'r') as f:\n",
        "            data = [(random.random(), line) for line in f]\n",
        "        data.sort()\n",
        "        with open(file_name, 'w') as target:\n",
        "            for _, line in data:\n",
        "                target.write(line)\n",
        "        return len(data)\n",
        "\n",
        "    # Shuffling via random.shuffle(method) and then writing the shuffled\n",
        "    # content to the same file\n",
        "    def shuffle_readline(self):\n",
        "        file_name = self.file_name\n",
        "        with open(file_name, 'r') as f:\n",
        "            lines = f.readlines()\n",
        "            random.shuffle(lines)\n",
        "\n",
        "        with open(file_name, 'w') as f:\n",
        "            f.writelines(lines)\n",
        "\n",
        "        return len(lines)\n",
        "\n",
        "\n",
        "def main():\n",
        "\n",
        "    obj = ShuffleLine(inputFilename)\n",
        "\n",
        "    print('Method 1')\n",
        "    t1 = time.time()\n",
        "    num_lines = obj.shuffle_readline()\n",
        "    t2 = time.time()\n",
        "    print(f'Total time taken {t2-t1} seconds to shuffle {num_lines} lines.')\n",
        "\n",
        "    print('\\nMethod 2')\n",
        "    t1 = time.time()\n",
        "    num_lines = obj.shuffle_read()\n",
        "    t2 = time.time()\n",
        "    print(f'Total time taken {t2-t1} seconds to shuffle {num_lines} lines.')\n",
        "\n",
        "\n",
        "if __name__ == '__main__':\n",
        "    main()"
      ],
      "metadata": {
        "id": "_rQ42G0tHKd6",
        "colab": {
          "base_uri": "https://localhost:8080/",
          "height": 207
        },
        "outputId": "4c4e6018-4af2-4d37-b164-9eb700e4ccf3"
      },
      "execution_count": null,
      "outputs": [
        {
          "output_type": "stream",
          "name": "stderr",
          "text": [
            "usage: ipykernel_launcher.py [-h] file_name\n",
            "ipykernel_launcher.py: error: unrecognized arguments: -f\n"
          ]
        },
        {
          "output_type": "error",
          "ename": "SystemExit",
          "evalue": "ignored",
          "traceback": [
            "An exception has occurred, use %tb to see the full traceback.\n",
            "\u001b[0;31mSystemExit\u001b[0m\u001b[0;31m:\u001b[0m 2\n"
          ]
        },
        {
          "output_type": "stream",
          "name": "stderr",
          "text": [
            "/usr/local/lib/python3.7/dist-packages/IPython/core/interactiveshell.py:3334: UserWarning: To exit: use 'exit', 'quit', or Ctrl-D.\n",
            "  warn(\"To exit: use 'exit', 'quit', or Ctrl-D.\", stacklevel=1)\n"
          ]
        }
      ]
    },
    {
      "cell_type": "code",
      "source": [
        "!python ../shuffle.py ../DRS-raw.txt"
      ],
      "metadata": {
        "colab": {
          "base_uri": "https://localhost:8080/"
        },
        "id": "wYDfiGcmfZkg",
        "outputId": "51d1fbf3-d488-4ee8-d75f-9283636c90ef"
      },
      "execution_count": null,
      "outputs": [
        {
          "output_type": "stream",
          "name": "stdout",
          "text": [
            "Method 1\n",
            "Total time taken 0.0012216567993164062 seconds to shuffle 897 lines.\n",
            "\n",
            "Method 2\n",
            "Total time taken 0.0010759830474853516 seconds to shuffle 897 lines.\n"
          ]
        }
      ]
    },
    {
      "cell_type": "markdown",
      "source": [
        "**To generate histograms of the target shuffled values...**"
      ],
      "metadata": {
        "id": "58OWOiG1BOzV"
      }
    },
    {
      "cell_type": "code",
      "source": [
        "import pandas as pd\n"
      ],
      "metadata": {
        "id": "EFsAO-sLfeQi"
      },
      "execution_count": null,
      "outputs": []
    },
    {
      "cell_type": "code",
      "source": [
        "df = pd.read_csv('target-shuffling.csv')\n"
      ],
      "metadata": {
        "id": "EIMSJBy6Bh1p"
      },
      "execution_count": null,
      "outputs": []
    },
    {
      "cell_type": "code",
      "source": [
        "df.head(1)\n"
      ],
      "metadata": {
        "colab": {
          "base_uri": "https://localhost:8080/",
          "height": 81
        },
        "id": "KykW_znSBsJD",
        "outputId": "6e935bab-8381-425e-b019-8303860d7408"
      },
      "execution_count": null,
      "outputs": [
        {
          "output_type": "execute_result",
          "data": {
            "text/plain": [
              "   BLEU    NIST  METEOR  ROUGE_L   CIDEr  Precision    Recall  F1-Score\n",
              "0  0.27  0.5474    2.06     4.97  0.0346   0.871822  0.871822  0.871822"
            ],
            "text/html": [
              "\n",
              "  <div id=\"df-72f3329e-c053-4339-a046-c99592fa1669\">\n",
              "    <div class=\"colab-df-container\">\n",
              "      <div>\n",
              "<style scoped>\n",
              "    .dataframe tbody tr th:only-of-type {\n",
              "        vertical-align: middle;\n",
              "    }\n",
              "\n",
              "    .dataframe tbody tr th {\n",
              "        vertical-align: top;\n",
              "    }\n",
              "\n",
              "    .dataframe thead th {\n",
              "        text-align: right;\n",
              "    }\n",
              "</style>\n",
              "<table border=\"1\" class=\"dataframe\">\n",
              "  <thead>\n",
              "    <tr style=\"text-align: right;\">\n",
              "      <th></th>\n",
              "      <th>BLEU</th>\n",
              "      <th>NIST</th>\n",
              "      <th>METEOR</th>\n",
              "      <th>ROUGE_L</th>\n",
              "      <th>CIDEr</th>\n",
              "      <th>Precision</th>\n",
              "      <th>Recall</th>\n",
              "      <th>F1-Score</th>\n",
              "    </tr>\n",
              "  </thead>\n",
              "  <tbody>\n",
              "    <tr>\n",
              "      <th>0</th>\n",
              "      <td>0.27</td>\n",
              "      <td>0.5474</td>\n",
              "      <td>2.06</td>\n",
              "      <td>4.97</td>\n",
              "      <td>0.0346</td>\n",
              "      <td>0.871822</td>\n",
              "      <td>0.871822</td>\n",
              "      <td>0.871822</td>\n",
              "    </tr>\n",
              "  </tbody>\n",
              "</table>\n",
              "</div>\n",
              "      <button class=\"colab-df-convert\" onclick=\"convertToInteractive('df-72f3329e-c053-4339-a046-c99592fa1669')\"\n",
              "              title=\"Convert this dataframe to an interactive table.\"\n",
              "              style=\"display:none;\">\n",
              "        \n",
              "  <svg xmlns=\"http://www.w3.org/2000/svg\" height=\"24px\"viewBox=\"0 0 24 24\"\n",
              "       width=\"24px\">\n",
              "    <path d=\"M0 0h24v24H0V0z\" fill=\"none\"/>\n",
              "    <path d=\"M18.56 5.44l.94 2.06.94-2.06 2.06-.94-2.06-.94-.94-2.06-.94 2.06-2.06.94zm-11 1L8.5 8.5l.94-2.06 2.06-.94-2.06-.94L8.5 2.5l-.94 2.06-2.06.94zm10 10l.94 2.06.94-2.06 2.06-.94-2.06-.94-.94-2.06-.94 2.06-2.06.94z\"/><path d=\"M17.41 7.96l-1.37-1.37c-.4-.4-.92-.59-1.43-.59-.52 0-1.04.2-1.43.59L10.3 9.45l-7.72 7.72c-.78.78-.78 2.05 0 2.83L4 21.41c.39.39.9.59 1.41.59.51 0 1.02-.2 1.41-.59l7.78-7.78 2.81-2.81c.8-.78.8-2.07 0-2.86zM5.41 20L4 18.59l7.72-7.72 1.47 1.35L5.41 20z\"/>\n",
              "  </svg>\n",
              "      </button>\n",
              "      \n",
              "  <style>\n",
              "    .colab-df-container {\n",
              "      display:flex;\n",
              "      flex-wrap:wrap;\n",
              "      gap: 12px;\n",
              "    }\n",
              "\n",
              "    .colab-df-convert {\n",
              "      background-color: #E8F0FE;\n",
              "      border: none;\n",
              "      border-radius: 50%;\n",
              "      cursor: pointer;\n",
              "      display: none;\n",
              "      fill: #1967D2;\n",
              "      height: 32px;\n",
              "      padding: 0 0 0 0;\n",
              "      width: 32px;\n",
              "    }\n",
              "\n",
              "    .colab-df-convert:hover {\n",
              "      background-color: #E2EBFA;\n",
              "      box-shadow: 0px 1px 2px rgba(60, 64, 67, 0.3), 0px 1px 3px 1px rgba(60, 64, 67, 0.15);\n",
              "      fill: #174EA6;\n",
              "    }\n",
              "\n",
              "    [theme=dark] .colab-df-convert {\n",
              "      background-color: #3B4455;\n",
              "      fill: #D2E3FC;\n",
              "    }\n",
              "\n",
              "    [theme=dark] .colab-df-convert:hover {\n",
              "      background-color: #434B5C;\n",
              "      box-shadow: 0px 1px 3px 1px rgba(0, 0, 0, 0.15);\n",
              "      filter: drop-shadow(0px 1px 2px rgba(0, 0, 0, 0.3));\n",
              "      fill: #FFFFFF;\n",
              "    }\n",
              "  </style>\n",
              "\n",
              "      <script>\n",
              "        const buttonEl =\n",
              "          document.querySelector('#df-72f3329e-c053-4339-a046-c99592fa1669 button.colab-df-convert');\n",
              "        buttonEl.style.display =\n",
              "          google.colab.kernel.accessAllowed ? 'block' : 'none';\n",
              "\n",
              "        async function convertToInteractive(key) {\n",
              "          const element = document.querySelector('#df-72f3329e-c053-4339-a046-c99592fa1669');\n",
              "          const dataTable =\n",
              "            await google.colab.kernel.invokeFunction('convertToInteractive',\n",
              "                                                     [key], {});\n",
              "          if (!dataTable) return;\n",
              "\n",
              "          const docLinkHtml = 'Like what you see? Visit the ' +\n",
              "            '<a target=\"_blank\" href=https://colab.research.google.com/notebooks/data_table.ipynb>data table notebook</a>'\n",
              "            + ' to learn more about interactive tables.';\n",
              "          element.innerHTML = '';\n",
              "          dataTable['output_type'] = 'display_data';\n",
              "          await google.colab.output.renderOutput(dataTable, element);\n",
              "          const docLink = document.createElement('div');\n",
              "          docLink.innerHTML = docLinkHtml;\n",
              "          element.appendChild(docLink);\n",
              "        }\n",
              "      </script>\n",
              "    </div>\n",
              "  </div>\n",
              "  "
            ]
          },
          "metadata": {},
          "execution_count": 3
        }
      ]
    },
    {
      "cell_type": "code",
      "source": [
        "import matplotlib.pyplot as plt\n"
      ],
      "metadata": {
        "id": "lVhWHGg7BuBn"
      },
      "execution_count": null,
      "outputs": []
    },
    {
      "cell_type": "code",
      "source": [
        "df['BLEU'].plot(kind='hist',bins=11)\n"
      ],
      "metadata": {
        "colab": {
          "base_uri": "https://localhost:8080/",
          "height": 283
        },
        "id": "faTK7dbaCEwp",
        "outputId": "59dedd7a-ba50-4f4a-c6df-a6b23c5d7883"
      },
      "execution_count": null,
      "outputs": [
        {
          "output_type": "execute_result",
          "data": {
            "text/plain": [
              "<matplotlib.axes._subplots.AxesSubplot at 0x7f42dd9c6690>"
            ]
          },
          "metadata": {},
          "execution_count": 9
        },
        {
          "output_type": "display_data",
          "data": {
            "text/plain": [
              "<Figure size 432x288 with 1 Axes>"
            ],
            "image/png": "[encoded data removed]"
          },
          "metadata": {
            "needs_background": "light"
          }
        }
      ]
    },
    {
      "cell_type": "code",
      "source": [
        "plt.plot(df['BLEU'])"
      ],
      "metadata": {
        "colab": {
          "base_uri": "https://localhost:8080/",
          "height": 283
        },
        "id": "ic1izezbCH6o",
        "outputId": "751c86f2-423d-4269-8da8-d133667be889"
      },
      "execution_count": null,
      "outputs": [
        {
          "output_type": "execute_result",
          "data": {
            "text/plain": [
              "[<matplotlib.lines.Line2D at 0x7f42dd8dabd0>]"
            ]
          },
          "metadata": {},
          "execution_count": 11
        },
        {
          "output_type": "display_data",
          "data": {
            "text/plain": [
              "<Figure size 432x288 with 1 Axes>"
            ],
            "image/png": "[encoded data removed]"
          },
          "metadata": {
            "needs_background": "light"
          }
        }
      ]
    },
    {
      "cell_type": "code",
      "source": [
        "plt.hist(df['BLEU'])\n"
      ],
      "metadata": {
        "colab": {
          "base_uri": "https://localhost:8080/",
          "height": 336
        },
        "id": "Ev5VyjBuCkfr",
        "outputId": "c19c1a17-c6a5-44dd-9cb1-8f04bd31916b"
      },
      "execution_count": null,
      "outputs": [
        {
          "output_type": "execute_result",
          "data": {
            "text/plain": [
              "(array([5., 0., 0., 1., 2., 2., 0., 0., 0., 1.]),\n",
              " array([0.09 , 0.285, 0.48 , 0.675, 0.87 , 1.065, 1.26 , 1.455, 1.65 ,\n",
              "        1.845, 2.04 ]),\n",
              " <a list of 10 Patch objects>)"
            ]
          },
          "metadata": {},
          "execution_count": 13
        },
        {
          "output_type": "display_data",
          "data": {
            "text/plain": [
              "<Figure size 432x288 with 1 Axes>"
            ],
            "image/png": "[encoded data removed]"
          },
          "metadata": {
            "needs_background": "light"
          }
        }
      ]
    },
    {
      "cell_type": "code",
      "source": [
        "import seaborn as sns\n"
      ],
      "metadata": {
        "id": "Mk-2aNFYCu1r"
      },
      "execution_count": null,
      "outputs": []
    },
    {
      "cell_type": "code",
      "source": [
        "sns.distplot(df['BLEU'])\n"
      ],
      "metadata": {
        "colab": {
          "base_uri": "https://localhost:8080/",
          "height": 353
        },
        "id": "FgMXPUaJC_cR",
        "outputId": "d838cd64-5532-437e-baa1-d3c68c8e1d2a"
      },
      "execution_count": null,
      "outputs": [
        {
          "output_type": "stream",
          "name": "stderr",
          "text": [
            "/usr/local/lib/python3.7/dist-packages/seaborn/distributions.py:2619: FutureWarning: `distplot` is a deprecated function and will be removed in a future version. Please adapt your code to use either `displot` (a figure-level function with similar flexibility) or `histplot` (an axes-level function for histograms).\n",
            "  warnings.warn(msg, FutureWarning)\n"
          ]
        },
        {
          "output_type": "execute_result",
          "data": {
            "text/plain": [
              "<matplotlib.axes._subplots.AxesSubplot at 0x7f42d149b9d0>"
            ]
          },
          "metadata": {},
          "execution_count": 15
        },
        {
          "output_type": "display_data",
          "data": {
            "text/plain": [
              "<Figure size 432x288 with 1 Axes>"
            ],
            "image/png": "[encoded data removed]"
          },
          "metadata": {
            "needs_background": "light"
          }
        }
      ]
    },
    {
      "cell_type": "code",
      "source": [
        "sns.distplot(df['NIST'])\n"
      ],
      "metadata": {
        "colab": {
          "base_uri": "https://localhost:8080/",
          "height": 297
        },
        "id": "Fk6fEY3CDaDI",
        "outputId": "42097084-78a5-46a8-d805-17875d6509b4"
      },
      "execution_count": null,
      "outputs": [
        {
          "output_type": "execute_result",
          "data": {
            "text/plain": [
              "<matplotlib.axes._subplots.AxesSubplot at 0x7f42d13bd0d0>"
            ]
          },
          "metadata": {},
          "execution_count": 17
        },
        {
          "output_type": "display_data",
          "data": {
            "text/plain": [
              "<Figure size 432x288 with 1 Axes>"
            ],
            "image/png": "[encoded data removed]"
          },
          "metadata": {
            "needs_background": "light"
          }
        }
      ]
    },
    {
      "cell_type": "code",
      "source": [
        "sns.distplot(df['METEOR'])\n"
      ],
      "metadata": {
        "colab": {
          "base_uri": "https://localhost:8080/",
          "height": 353
        },
        "id": "t503TeqnD13V",
        "outputId": "48b9cf4f-555f-4a9e-ada2-3d791d426957"
      },
      "execution_count": null,
      "outputs": [
        {
          "output_type": "stream",
          "name": "stderr",
          "text": [
            "/usr/local/lib/python3.7/dist-packages/seaborn/distributions.py:2619: FutureWarning: `distplot` is a deprecated function and will be removed in a future version. Please adapt your code to use either `displot` (a figure-level function with similar flexibility) or `histplot` (an axes-level function for histograms).\n",
            "  warnings.warn(msg, FutureWarning)\n"
          ]
        },
        {
          "output_type": "execute_result",
          "data": {
            "text/plain": [
              "<matplotlib.axes._subplots.AxesSubplot at 0x7f42d1326190>"
            ]
          },
          "metadata": {},
          "execution_count": 18
        },
        {
          "output_type": "display_data",
          "data": {
            "text/plain": [
              "<Figure size 432x288 with 1 Axes>"
            ],
            "image/png": "[encoded data removed]"
          },
          "metadata": {
            "needs_background": "light"
          }
        }
      ]
    },
    {
      "cell_type": "code",
      "source": [
        "sns.distplot(df['ROUGE_L'])\n"
      ],
      "metadata": {
        "colab": {
          "base_uri": "https://localhost:8080/",
          "height": 354
        },
        "id": "x2hwqcw_D5X_",
        "outputId": "7bcbce5f-d254-44a4-934a-b517d922e86b"
      },
      "execution_count": null,
      "outputs": [
        {
          "output_type": "stream",
          "name": "stderr",
          "text": [
            "/usr/local/lib/python3.7/dist-packages/seaborn/distributions.py:2619: FutureWarning: `distplot` is a deprecated function and will be removed in a future version. Please adapt your code to use either `displot` (a figure-level function with similar flexibility) or `histplot` (an axes-level function for histograms).\n",
            "  warnings.warn(msg, FutureWarning)\n"
          ]
        },
        {
          "output_type": "execute_result",
          "data": {
            "text/plain": [
              "<matplotlib.axes._subplots.AxesSubplot at 0x7f42d1375b10>"
            ]
          },
          "metadata": {},
          "execution_count": 19
        },
        {
          "output_type": "display_data",
          "data": {
            "text/plain": [
              "<Figure size 432x288 with 1 Axes>"
            ],
            "image/png": "[encoded data removed]"
          },
          "metadata": {
            "needs_background": "light"
          }
        }
      ]
    },
    {
      "cell_type": "code",
      "source": [
        "sns.distplot(df['CIDEr'])\n"
      ],
      "metadata": {
        "colab": {
          "base_uri": "https://localhost:8080/",
          "height": 353
        },
        "id": "4gzWISmAD-ME",
        "outputId": "c4d82029-9e0a-4310-cb61-d8e4208e8d76"
      },
      "execution_count": null,
      "outputs": [
        {
          "output_type": "stream",
          "name": "stderr",
          "text": [
            "/usr/local/lib/python3.7/dist-packages/seaborn/distributions.py:2619: FutureWarning: `distplot` is a deprecated function and will be removed in a future version. Please adapt your code to use either `displot` (a figure-level function with similar flexibility) or `histplot` (an axes-level function for histograms).\n",
            "  warnings.warn(msg, FutureWarning)\n"
          ]
        },
        {
          "output_type": "execute_result",
          "data": {
            "text/plain": [
              "<matplotlib.axes._subplots.AxesSubplot at 0x7f42d13267d0>"
            ]
          },
          "metadata": {},
          "execution_count": 20
        },
        {
          "output_type": "display_data",
          "data": {
            "text/plain": [
              "<Figure size 432x288 with 1 Axes>"
            ],
            "image/png": "[encoded data removed]"
          },
          "metadata": {
            "needs_background": "light"
          }
        }
      ]
    },
    {
      "cell_type": "code",
      "source": [
        "sns.distplot(df['Precision'])\n"
      ],
      "metadata": {
        "colab": {
          "base_uri": "https://localhost:8080/",
          "height": 353
        },
        "id": "UUPG7QL5ECCd",
        "outputId": "ac18c69e-1739-452c-dc4e-11fe9fcdca31"
      },
      "execution_count": null,
      "outputs": [
        {
          "output_type": "stream",
          "name": "stderr",
          "text": [
            "/usr/local/lib/python3.7/dist-packages/seaborn/distributions.py:2619: FutureWarning: `distplot` is a deprecated function and will be removed in a future version. Please adapt your code to use either `displot` (a figure-level function with similar flexibility) or `histplot` (an axes-level function for histograms).\n",
            "  warnings.warn(msg, FutureWarning)\n"
          ]
        },
        {
          "output_type": "execute_result",
          "data": {
            "text/plain": [
              "<matplotlib.axes._subplots.AxesSubplot at 0x7f42d11a7150>"
            ]
          },
          "metadata": {},
          "execution_count": 21
        },
        {
          "output_type": "display_data",
          "data": {
            "text/plain": [
              "<Figure size 432x288 with 1 Axes>"
            ],
            "image/png": "[encoded data removed]"
          },
          "metadata": {
            "needs_background": "light"
          }
        }
      ]
    },
    {
      "cell_type": "code",
      "source": [
        "sns.distplot(df['Recall'])\n"
      ],
      "metadata": {
        "colab": {
          "base_uri": "https://localhost:8080/",
          "height": 353
        },
        "id": "qn1RCsG-EEXo",
        "outputId": "bf980605-b732-4372-e434-7f5002b1cc52"
      },
      "execution_count": null,
      "outputs": [
        {
          "output_type": "stream",
          "name": "stderr",
          "text": [
            "/usr/local/lib/python3.7/dist-packages/seaborn/distributions.py:2619: FutureWarning: `distplot` is a deprecated function and will be removed in a future version. Please adapt your code to use either `displot` (a figure-level function with similar flexibility) or `histplot` (an axes-level function for histograms).\n",
            "  warnings.warn(msg, FutureWarning)\n"
          ]
        },
        {
          "output_type": "execute_result",
          "data": {
            "text/plain": [
              "<matplotlib.axes._subplots.AxesSubplot at 0x7f42d116e2d0>"
            ]
          },
          "metadata": {},
          "execution_count": 22
        },
        {
          "output_type": "display_data",
          "data": {
            "text/plain": [
              "<Figure size 432x288 with 1 Axes>"
            ],
            "image/png": "[encoded data removed]"
          },
          "metadata": {
            "needs_background": "light"
          }
        }
      ]
    },
    {
      "cell_type": "code",
      "source": [
        "sns.distplot(df['F1-Score'])\n"
      ],
      "metadata": {
        "colab": {
          "base_uri": "https://localhost:8080/",
          "height": 353
        },
        "id": "bvxH7u_5EGl9",
        "outputId": "92c800e7-8f0a-4891-b508-58913aad0ba6"
      },
      "execution_count": null,
      "outputs": [
        {
          "output_type": "stream",
          "name": "stderr",
          "text": [
            "/usr/local/lib/python3.7/dist-packages/seaborn/distributions.py:2619: FutureWarning: `distplot` is a deprecated function and will be removed in a future version. Please adapt your code to use either `displot` (a figure-level function with similar flexibility) or `histplot` (an axes-level function for histograms).\n",
            "  warnings.warn(msg, FutureWarning)\n"
          ]
        },
        {
          "output_type": "execute_result",
          "data": {
            "text/plain": [
              "<matplotlib.axes._subplots.AxesSubplot at 0x7f42d1125f90>"
            ]
          },
          "metadata": {},
          "execution_count": 23
        },
        {
          "output_type": "display_data",
          "data": {
            "text/plain": [
              "<Figure size 432x288 with 1 Axes>"
            ],
            "image/png": "[encoded data removed]"
          },
          "metadata": {
            "needs_background": "light"
          }
        }
      ]
    },
    {
      "cell_type": "markdown",
      "source": [
        "**Code to randomize the output1.seq.out file**"
      ],
      "metadata": {
        "id": "o0b0aylFmxpe"
      }
    },
    {
      "cell_type": "code",
      "source": [
        "import random\n",
        "with open('../output1.seq.out','r') as source:\n",
        "    data = [ (random.random(), line) for line in source ]\n",
        "data.sort()\n",
        "with open('../1.txt','w') as target:\n",
        "    for _, line in data:\n",
        "        target.write( line )"
      ],
      "metadata": {
        "id": "CY6-1ETqENiP"
      },
      "execution_count": null,
      "outputs": []
    },
    {
      "cell_type": "markdown",
      "source": [
        "Shapiro-wilk test for data normality check"
      ],
      "metadata": {
        "id": "MhHPgY8ekjMH"
      }
    },
    {
      "cell_type": "code",
      "source": [
        "import numpy as np\n",
        "from numpy.random import poisson\n",
        "from numpy.random import seed\n",
        "from scipy.stats import shapiro\n",
        "from numpy.random import randn\n",
        "  \n",
        "seed(0)\n",
        "# Create data\n",
        "gfg_data = poisson(5, 200)\n",
        "  \n",
        "# conduct the  Shapiro-Wilk Test\n",
        "shapiro(gfg_data)"
      ],
      "metadata": {
        "colab": {
          "base_uri": "https://localhost:8080/"
        },
        "id": "sB403qyAkiDI",
        "outputId": "0b8db38a-eeec-4129-b7b1-d89e855c649a"
      },
      "execution_count": null,
      "outputs": [
        {
          "output_type": "execute_result",
          "data": {
            "text/plain": [
              "ShapiroResult(statistic=0.966901957988739, pvalue=0.00011927181185455993)"
            ]
          },
          "metadata": {},
          "execution_count": 1
        }
      ]
    },
    {
      "cell_type": "code",
      "source": [
        "# Read Text Files with Pandas using read_csv()\n",
        "  \n",
        "# importing pandas\n",
        "import pandas as pd\n",
        "  \n",
        "# read text file into pandas DataFrame\n",
        "df = pd.read_csv(\"gfg.txt\", sep=\" \")\n",
        "  \n",
        "# display DataFrame\n",
        "print(df)"
      ],
      "metadata": {
        "colab": {
          "base_uri": "https://localhost:8080/"
        },
        "id": "19bJP8jPlEsF",
        "outputId": "96060efb-a558-40de-e7a6-5010a06478f5"
      },
      "execution_count": null,
      "outputs": [
        {
          "output_type": "stream",
          "name": "stdout",
          "text": [
            "      20.547995616750768\n",
            "0             100.000000\n",
            "1              14.058533\n",
            "2              10.682175\n",
            "3              15.619700\n",
            "4              57.991507\n",
            "...                  ...\n",
            "3586           10.682175\n",
            "3587           37.991784\n",
            "3588           18.995892\n",
            "3589           30.739408\n",
            "3590           27.516060\n",
            "\n",
            "[3591 rows x 1 columns]\n"
          ]
        }
      ]
    },
    {
      "cell_type": "code",
      "source": [
        "shapiro(df)"
      ],
      "metadata": {
        "colab": {
          "base_uri": "https://localhost:8080/"
        },
        "id": "zSnGYgaflRKf",
        "outputId": "48809ebc-b1a9-434f-adf7-e4db9eb2fa9c"
      },
      "execution_count": null,
      "outputs": [
        {
          "output_type": "execute_result",
          "data": {
            "text/plain": [
              "ShapiroResult(statistic=0.8639757037162781, pvalue=0.0)"
            ]
          },
          "metadata": {},
          "execution_count": 6
        }
      ]
    }
  ]
}